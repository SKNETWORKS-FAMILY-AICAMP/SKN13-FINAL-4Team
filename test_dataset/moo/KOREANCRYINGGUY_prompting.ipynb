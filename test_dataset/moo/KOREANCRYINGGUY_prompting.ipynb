{
 "cells": [
  {
   "cell_type": "markdown",
   "id": "5e74920b",
   "metadata": {},
   "source": [
    "# Raw Text to QA Paired Dataset\n",
    "\n",
    "* 텍스트 파일을 참조하는 폴더, 만들어낼 json 데이터셋 경로를 재설정해주세요.\n",
    "\n",
    "* `.env` 파일에 OPENAI_API_KEY와 Langsmith 관련 환경 변수를 설정해주세요.\n",
    "\n",
    "* 프롬프트를 수집하고자 하는 페르소나에 맞게 자세히 수정해주세요."
   ]
  },
  {
   "cell_type": "markdown",
   "id": "2e8ad201",
   "metadata": {},
   "source": [
    "### Requirements"
   ]
  },
  {
   "cell_type": "code",
   "execution_count": 1,
   "id": "f6724f7d",
   "metadata": {},
   "outputs": [],
   "source": [
    "import os\n",
    "import json\n",
    "import time\n",
    "from textwrap import dedent\n",
    "from tqdm.notebook import tqdm"
   ]
  },
  {
   "cell_type": "code",
   "execution_count": 2,
   "id": "841a615f",
   "metadata": {},
   "outputs": [
    {
     "name": "stdout",
     "output_type": "stream",
     "text": [
      "Requirement already satisfied: langchain in c:\\users\\playdata\\appdata\\local\\anaconda3\\lib\\site-packages (0.3.27)\n",
      "Requirement already satisfied: openai in c:\\users\\playdata\\appdata\\local\\anaconda3\\lib\\site-packages (1.97.1)\n",
      "Requirement already satisfied: langchain-core<1.0.0,>=0.3.72 in c:\\users\\playdata\\appdata\\local\\anaconda3\\lib\\site-packages (from langchain) (0.3.72)\n",
      "Requirement already satisfied: langchain-text-splitters<1.0.0,>=0.3.9 in c:\\users\\playdata\\appdata\\local\\anaconda3\\lib\\site-packages (from langchain) (0.3.9)\n",
      "Requirement already satisfied: langsmith>=0.1.17 in c:\\users\\playdata\\appdata\\local\\anaconda3\\lib\\site-packages (from langchain) (0.4.8)\n",
      "Requirement already satisfied: pydantic<3.0.0,>=2.7.4 in c:\\users\\playdata\\appdata\\local\\anaconda3\\lib\\site-packages (from langchain) (2.8.2)\n",
      "Requirement already satisfied: SQLAlchemy<3,>=1.4 in c:\\users\\playdata\\appdata\\local\\anaconda3\\lib\\site-packages (from langchain) (2.0.34)\n",
      "Requirement already satisfied: requests<3,>=2 in c:\\users\\playdata\\appdata\\local\\anaconda3\\lib\\site-packages (from langchain) (2.32.3)\n",
      "Requirement already satisfied: PyYAML>=5.3 in c:\\users\\playdata\\appdata\\local\\anaconda3\\lib\\site-packages (from langchain) (6.0.1)\n",
      "Requirement already satisfied: anyio<5,>=3.5.0 in c:\\users\\playdata\\appdata\\local\\anaconda3\\lib\\site-packages (from openai) (4.2.0)\n",
      "Requirement already satisfied: distro<2,>=1.7.0 in c:\\users\\playdata\\appdata\\local\\anaconda3\\lib\\site-packages (from openai) (1.9.0)\n",
      "Requirement already satisfied: httpx<1,>=0.23.0 in c:\\users\\playdata\\appdata\\local\\anaconda3\\lib\\site-packages (from openai) (0.27.0)\n",
      "Requirement already satisfied: jiter<1,>=0.4.0 in c:\\users\\playdata\\appdata\\local\\anaconda3\\lib\\site-packages (from openai) (0.10.0)\n",
      "Requirement already satisfied: sniffio in c:\\users\\playdata\\appdata\\local\\anaconda3\\lib\\site-packages (from openai) (1.3.0)\n",
      "Requirement already satisfied: tqdm>4 in c:\\users\\playdata\\appdata\\local\\anaconda3\\lib\\site-packages (from openai) (4.66.5)\n",
      "Requirement already satisfied: typing-extensions<5,>=4.11 in c:\\users\\playdata\\appdata\\local\\anaconda3\\lib\\site-packages (from openai) (4.14.1)\n",
      "Requirement already satisfied: idna>=2.8 in c:\\users\\playdata\\appdata\\local\\anaconda3\\lib\\site-packages (from anyio<5,>=3.5.0->openai) (3.7)\n",
      "Requirement already satisfied: certifi in c:\\users\\playdata\\appdata\\local\\anaconda3\\lib\\site-packages (from httpx<1,>=0.23.0->openai) (2024.8.30)\n",
      "Requirement already satisfied: httpcore==1.* in c:\\users\\playdata\\appdata\\local\\anaconda3\\lib\\site-packages (from httpx<1,>=0.23.0->openai) (1.0.2)\n",
      "Requirement already satisfied: h11<0.15,>=0.13 in c:\\users\\playdata\\appdata\\local\\anaconda3\\lib\\site-packages (from httpcore==1.*->httpx<1,>=0.23.0->openai) (0.14.0)\n",
      "Requirement already satisfied: tenacity!=8.4.0,<10.0.0,>=8.1.0 in c:\\users\\playdata\\appdata\\local\\anaconda3\\lib\\site-packages (from langchain-core<1.0.0,>=0.3.72->langchain) (8.2.3)\n",
      "Requirement already satisfied: jsonpatch<2.0,>=1.33 in c:\\users\\playdata\\appdata\\local\\anaconda3\\lib\\site-packages (from langchain-core<1.0.0,>=0.3.72->langchain) (1.33)\n",
      "Requirement already satisfied: packaging>=23.2 in c:\\users\\playdata\\appdata\\local\\anaconda3\\lib\\site-packages (from langchain-core<1.0.0,>=0.3.72->langchain) (24.1)\n",
      "Requirement already satisfied: orjson<4.0.0,>=3.9.14 in c:\\users\\playdata\\appdata\\local\\anaconda3\\lib\\site-packages (from langsmith>=0.1.17->langchain) (3.11.1)\n",
      "Requirement already satisfied: requests-toolbelt<2.0.0,>=1.0.0 in c:\\users\\playdata\\appdata\\local\\anaconda3\\lib\\site-packages (from langsmith>=0.1.17->langchain) (1.0.0)\n",
      "Requirement already satisfied: zstandard<0.24.0,>=0.23.0 in c:\\users\\playdata\\appdata\\local\\anaconda3\\lib\\site-packages (from langsmith>=0.1.17->langchain) (0.23.0)\n",
      "Requirement already satisfied: annotated-types>=0.4.0 in c:\\users\\playdata\\appdata\\local\\anaconda3\\lib\\site-packages (from pydantic<3.0.0,>=2.7.4->langchain) (0.6.0)\n",
      "Requirement already satisfied: pydantic-core==2.20.1 in c:\\users\\playdata\\appdata\\local\\anaconda3\\lib\\site-packages (from pydantic<3.0.0,>=2.7.4->langchain) (2.20.1)\n",
      "Requirement already satisfied: charset-normalizer<4,>=2 in c:\\users\\playdata\\appdata\\local\\anaconda3\\lib\\site-packages (from requests<3,>=2->langchain) (3.3.2)\n",
      "Requirement already satisfied: urllib3<3,>=1.21.1 in c:\\users\\playdata\\appdata\\local\\anaconda3\\lib\\site-packages (from requests<3,>=2->langchain) (2.2.3)\n",
      "Requirement already satisfied: greenlet!=0.4.17 in c:\\users\\playdata\\appdata\\local\\anaconda3\\lib\\site-packages (from SQLAlchemy<3,>=1.4->langchain) (3.0.1)\n",
      "Requirement already satisfied: colorama in c:\\users\\playdata\\appdata\\local\\anaconda3\\lib\\site-packages (from tqdm>4->openai) (0.4.6)\n",
      "Requirement already satisfied: jsonpointer>=1.9 in c:\\users\\playdata\\appdata\\local\\anaconda3\\lib\\site-packages (from jsonpatch<2.0,>=1.33->langchain-core<1.0.0,>=0.3.72->langchain) (2.1)\n",
      "Note: you may need to restart the kernel to use updated packages.\n"
     ]
    }
   ],
   "source": [
    "pip install langchain openai "
   ]
  },
  {
   "cell_type": "code",
   "execution_count": 3,
   "id": "8bc901a9",
   "metadata": {},
   "outputs": [
    {
     "name": "stdout",
     "output_type": "stream",
     "text": [
      "Requirement already satisfied: langchain_openai in c:\\users\\playdata\\appdata\\local\\anaconda3\\lib\\site-packages (0.3.28)\n",
      "Requirement already satisfied: langchain_core in c:\\users\\playdata\\appdata\\local\\anaconda3\\lib\\site-packages (0.3.72)\n",
      "Requirement already satisfied: langchain_community in c:\\users\\playdata\\appdata\\local\\anaconda3\\lib\\site-packages (0.3.27)\n",
      "Requirement already satisfied: openai<2.0.0,>=1.86.0 in c:\\users\\playdata\\appdata\\local\\anaconda3\\lib\\site-packages (from langchain_openai) (1.97.1)\n",
      "Requirement already satisfied: tiktoken<1,>=0.7 in c:\\users\\playdata\\appdata\\local\\anaconda3\\lib\\site-packages (from langchain_openai) (0.9.0)\n",
      "Requirement already satisfied: langsmith>=0.3.45 in c:\\users\\playdata\\appdata\\local\\anaconda3\\lib\\site-packages (from langchain_core) (0.4.8)\n",
      "Requirement already satisfied: tenacity!=8.4.0,<10.0.0,>=8.1.0 in c:\\users\\playdata\\appdata\\local\\anaconda3\\lib\\site-packages (from langchain_core) (8.2.3)\n",
      "Requirement already satisfied: jsonpatch<2.0,>=1.33 in c:\\users\\playdata\\appdata\\local\\anaconda3\\lib\\site-packages (from langchain_core) (1.33)\n",
      "Requirement already satisfied: PyYAML>=5.3 in c:\\users\\playdata\\appdata\\local\\anaconda3\\lib\\site-packages (from langchain_core) (6.0.1)\n",
      "Requirement already satisfied: typing-extensions>=4.7 in c:\\users\\playdata\\appdata\\local\\anaconda3\\lib\\site-packages (from langchain_core) (4.14.1)\n",
      "Requirement already satisfied: packaging>=23.2 in c:\\users\\playdata\\appdata\\local\\anaconda3\\lib\\site-packages (from langchain_core) (24.1)\n",
      "Requirement already satisfied: pydantic>=2.7.4 in c:\\users\\playdata\\appdata\\local\\anaconda3\\lib\\site-packages (from langchain_core) (2.8.2)\n",
      "Requirement already satisfied: langchain<1.0.0,>=0.3.26 in c:\\users\\playdata\\appdata\\local\\anaconda3\\lib\\site-packages (from langchain_community) (0.3.27)\n",
      "Requirement already satisfied: SQLAlchemy<3,>=1.4 in c:\\users\\playdata\\appdata\\local\\anaconda3\\lib\\site-packages (from langchain_community) (2.0.34)\n",
      "Requirement already satisfied: requests<3,>=2 in c:\\users\\playdata\\appdata\\local\\anaconda3\\lib\\site-packages (from langchain_community) (2.32.3)\n",
      "Requirement already satisfied: aiohttp<4.0.0,>=3.8.3 in c:\\users\\playdata\\appdata\\local\\anaconda3\\lib\\site-packages (from langchain_community) (3.10.5)\n",
      "Requirement already satisfied: dataclasses-json<0.7,>=0.5.7 in c:\\users\\playdata\\appdata\\local\\anaconda3\\lib\\site-packages (from langchain_community) (0.6.7)\n",
      "Requirement already satisfied: pydantic-settings<3.0.0,>=2.4.0 in c:\\users\\playdata\\appdata\\local\\anaconda3\\lib\\site-packages (from langchain_community) (2.10.1)\n",
      "Requirement already satisfied: httpx-sse<1.0.0,>=0.4.0 in c:\\users\\playdata\\appdata\\local\\anaconda3\\lib\\site-packages (from langchain_community) (0.4.1)\n",
      "Requirement already satisfied: numpy>=1.26.2 in c:\\users\\playdata\\appdata\\local\\anaconda3\\lib\\site-packages (from langchain_community) (1.26.4)\n",
      "Requirement already satisfied: aiohappyeyeballs>=2.3.0 in c:\\users\\playdata\\appdata\\local\\anaconda3\\lib\\site-packages (from aiohttp<4.0.0,>=3.8.3->langchain_community) (2.4.0)\n",
      "Requirement already satisfied: aiosignal>=1.1.2 in c:\\users\\playdata\\appdata\\local\\anaconda3\\lib\\site-packages (from aiohttp<4.0.0,>=3.8.3->langchain_community) (1.2.0)\n",
      "Requirement already satisfied: attrs>=17.3.0 in c:\\users\\playdata\\appdata\\local\\anaconda3\\lib\\site-packages (from aiohttp<4.0.0,>=3.8.3->langchain_community) (23.1.0)\n",
      "Requirement already satisfied: frozenlist>=1.1.1 in c:\\users\\playdata\\appdata\\local\\anaconda3\\lib\\site-packages (from aiohttp<4.0.0,>=3.8.3->langchain_community) (1.4.0)\n",
      "Requirement already satisfied: multidict<7.0,>=4.5 in c:\\users\\playdata\\appdata\\local\\anaconda3\\lib\\site-packages (from aiohttp<4.0.0,>=3.8.3->langchain_community) (6.0.4)\n",
      "Requirement already satisfied: yarl<2.0,>=1.0 in c:\\users\\playdata\\appdata\\local\\anaconda3\\lib\\site-packages (from aiohttp<4.0.0,>=3.8.3->langchain_community) (1.11.0)\n",
      "Requirement already satisfied: marshmallow<4.0.0,>=3.18.0 in c:\\users\\playdata\\appdata\\local\\anaconda3\\lib\\site-packages (from dataclasses-json<0.7,>=0.5.7->langchain_community) (3.26.1)\n",
      "Requirement already satisfied: typing-inspect<1,>=0.4.0 in c:\\users\\playdata\\appdata\\local\\anaconda3\\lib\\site-packages (from dataclasses-json<0.7,>=0.5.7->langchain_community) (0.9.0)\n",
      "Requirement already satisfied: jsonpointer>=1.9 in c:\\users\\playdata\\appdata\\local\\anaconda3\\lib\\site-packages (from jsonpatch<2.0,>=1.33->langchain_core) (2.1)\n",
      "Requirement already satisfied: langchain-text-splitters<1.0.0,>=0.3.9 in c:\\users\\playdata\\appdata\\local\\anaconda3\\lib\\site-packages (from langchain<1.0.0,>=0.3.26->langchain_community) (0.3.9)\n",
      "Requirement already satisfied: httpx<1,>=0.23.0 in c:\\users\\playdata\\appdata\\local\\anaconda3\\lib\\site-packages (from langsmith>=0.3.45->langchain_core) (0.27.0)\n",
      "Requirement already satisfied: orjson<4.0.0,>=3.9.14 in c:\\users\\playdata\\appdata\\local\\anaconda3\\lib\\site-packages (from langsmith>=0.3.45->langchain_core) (3.11.1)\n",
      "Requirement already satisfied: requests-toolbelt<2.0.0,>=1.0.0 in c:\\users\\playdata\\appdata\\local\\anaconda3\\lib\\site-packages (from langsmith>=0.3.45->langchain_core) (1.0.0)\n",
      "Requirement already satisfied: zstandard<0.24.0,>=0.23.0 in c:\\users\\playdata\\appdata\\local\\anaconda3\\lib\\site-packages (from langsmith>=0.3.45->langchain_core) (0.23.0)\n",
      "Requirement already satisfied: anyio<5,>=3.5.0 in c:\\users\\playdata\\appdata\\local\\anaconda3\\lib\\site-packages (from openai<2.0.0,>=1.86.0->langchain_openai) (4.2.0)\n",
      "Requirement already satisfied: distro<2,>=1.7.0 in c:\\users\\playdata\\appdata\\local\\anaconda3\\lib\\site-packages (from openai<2.0.0,>=1.86.0->langchain_openai) (1.9.0)\n",
      "Requirement already satisfied: jiter<1,>=0.4.0 in c:\\users\\playdata\\appdata\\local\\anaconda3\\lib\\site-packages (from openai<2.0.0,>=1.86.0->langchain_openai) (0.10.0)\n",
      "Requirement already satisfied: sniffio in c:\\users\\playdata\\appdata\\local\\anaconda3\\lib\\site-packages (from openai<2.0.0,>=1.86.0->langchain_openai) (1.3.0)\n",
      "Requirement already satisfied: tqdm>4 in c:\\users\\playdata\\appdata\\local\\anaconda3\\lib\\site-packages (from openai<2.0.0,>=1.86.0->langchain_openai) (4.66.5)\n",
      "Requirement already satisfied: annotated-types>=0.4.0 in c:\\users\\playdata\\appdata\\local\\anaconda3\\lib\\site-packages (from pydantic>=2.7.4->langchain_core) (0.6.0)\n",
      "Requirement already satisfied: pydantic-core==2.20.1 in c:\\users\\playdata\\appdata\\local\\anaconda3\\lib\\site-packages (from pydantic>=2.7.4->langchain_core) (2.20.1)\n",
      "Requirement already satisfied: python-dotenv>=0.21.0 in c:\\users\\playdata\\appdata\\local\\anaconda3\\lib\\site-packages (from pydantic-settings<3.0.0,>=2.4.0->langchain_community) (0.21.0)\n",
      "Requirement already satisfied: typing-inspection>=0.4.0 in c:\\users\\playdata\\appdata\\local\\anaconda3\\lib\\site-packages (from pydantic-settings<3.0.0,>=2.4.0->langchain_community) (0.4.1)\n",
      "Requirement already satisfied: charset-normalizer<4,>=2 in c:\\users\\playdata\\appdata\\local\\anaconda3\\lib\\site-packages (from requests<3,>=2->langchain_community) (3.3.2)\n",
      "Requirement already satisfied: idna<4,>=2.5 in c:\\users\\playdata\\appdata\\local\\anaconda3\\lib\\site-packages (from requests<3,>=2->langchain_community) (3.7)\n",
      "Requirement already satisfied: urllib3<3,>=1.21.1 in c:\\users\\playdata\\appdata\\local\\anaconda3\\lib\\site-packages (from requests<3,>=2->langchain_community) (2.2.3)\n",
      "Requirement already satisfied: certifi>=2017.4.17 in c:\\users\\playdata\\appdata\\local\\anaconda3\\lib\\site-packages (from requests<3,>=2->langchain_community) (2024.8.30)\n",
      "Requirement already satisfied: greenlet!=0.4.17 in c:\\users\\playdata\\appdata\\local\\anaconda3\\lib\\site-packages (from SQLAlchemy<3,>=1.4->langchain_community) (3.0.1)\n",
      "Requirement already satisfied: regex>=2022.1.18 in c:\\users\\playdata\\appdata\\local\\anaconda3\\lib\\site-packages (from tiktoken<1,>=0.7->langchain_openai) (2024.9.11)\n",
      "Requirement already satisfied: httpcore==1.* in c:\\users\\playdata\\appdata\\local\\anaconda3\\lib\\site-packages (from httpx<1,>=0.23.0->langsmith>=0.3.45->langchain_core) (1.0.2)\n",
      "Requirement already satisfied: h11<0.15,>=0.13 in c:\\users\\playdata\\appdata\\local\\anaconda3\\lib\\site-packages (from httpcore==1.*->httpx<1,>=0.23.0->langsmith>=0.3.45->langchain_core) (0.14.0)\n",
      "Requirement already satisfied: colorama in c:\\users\\playdata\\appdata\\local\\anaconda3\\lib\\site-packages (from tqdm>4->openai<2.0.0,>=1.86.0->langchain_openai) (0.4.6)\n",
      "Requirement already satisfied: mypy-extensions>=0.3.0 in c:\\users\\playdata\\appdata\\local\\anaconda3\\lib\\site-packages (from typing-inspect<1,>=0.4.0->dataclasses-json<0.7,>=0.5.7->langchain_community) (1.0.0)\n",
      "Note: you may need to restart the kernel to use updated packages.\n"
     ]
    }
   ],
   "source": [
    "pip install langchain_openai langchain_core langchain_community"
   ]
  },
  {
   "cell_type": "code",
   "execution_count": 4,
   "id": "29cf172d",
   "metadata": {},
   "outputs": [],
   "source": [
    "from dotenv import load_dotenv\n",
    "from langchain_openai import ChatOpenAI\n",
    "from langchain_core.prompts import ChatPromptTemplate\n",
    "from langchain_core.output_parsers import JsonOutputParser"
   ]
  },
  {
   "cell_type": "code",
   "execution_count": 5,
   "id": "6bf8daf4",
   "metadata": {},
   "outputs": [
    {
     "data": {
      "text/plain": [
       "True"
      ]
     },
     "execution_count": 5,
     "metadata": {},
     "output_type": "execute_result"
    }
   ],
   "source": [
    "load_dotenv()"
   ]
  },
  {
   "cell_type": "markdown",
   "id": "6fd75387",
   "metadata": {},
   "source": [
    "### Main Functions"
   ]
  },
  {
   "cell_type": "code",
   "execution_count": 23,
   "id": "6995ffde",
   "metadata": {},
   "outputs": [],
   "source": [
    "INPUT_DIR = \"C:/Users/Playdata/Desktop/KoreanCryingGuymoogonghae_preprocessing_dataset.json\"\n",
    "OUTPUT_FILE = \"moogonghae_text_DATASET.json\""
   ]
  },
  {
   "cell_type": "code",
   "execution_count": 24,
   "id": "7b59e77f",
   "metadata": {},
   "outputs": [],
   "source": [
    "def generate_qa_pairs(script_title, script_content):\n",
    "    \"\"\"Langchain-OpenAI를 사용하여 주어진 스크립트에 대한 QA Pairs를 생성하는 함수입니다.\"\"\"\n",
    "\n",
    "    # 초기화\n",
    "    system_prompt = dedent(\"\"\"\n",
    "    # ROLE: 당신은 유튜브 공감 리액션 콘텐츠 〈무공해〉의 진행자 유병재의 화법과 캐릭터를 완벽히 재현하는 AI입니다. 당신은 누구보다 빠르게 사연자의 말에 반응하고, 무조건적인 편들기와 과장된 리액션으로 웃음과 위로를 동시에 줍니다. 본질보다 감정에 먼저 반응하며, 짧은 감탄과 탄식, 반격성 리액션을 구사합니다. 무례하거나 억울한 사연에는 사연자의 감정을 대변해 분노해주고, 허무하거나 귀여운 사연에도 오버스러운 반응으로 분위기를 이끕니다.\n",
    "    # GOAL: 주어진 유튜브 사연을 바탕으로 시청자들이 할 법한 질문을 구성하고, 그에 대한 유병재 특유의 반응형 리액션 스타일로 답변을 생성하는 것입니다. 이 답변은 진지한 조언보다는 감정적 리액션과 과장된 표현을 통해 사연자의 감정을 해소하고 웃음을 주는 것을 목표로 합니다. 핵심은 \"무조건 공감\", \"먼저 화내주기\", \"사연을 더 웃기게 만들어주기\"입니다.\n",
    "    # TASK: 주어진 스크립트 내용을 바탕으로 시청자가 궁금해할 법한 질문(instruction)과 유병재 스타일의 답변(output)을 최소 3개 이상 JSON 배열로 생성하세요.\n",
    "    - instruction은 시청자의 관점에서, script 내용을 기반으로 한 구체적인 질문이어야 합니다.\n",
    "    - output은 유병재 특유의 말투, 리액션, 편들기, 감정적 과장 표현을 적극 활용한 응답이어야 합니다.\n",
    "    - 반말과 존댓말 혼용, 강한 감정 표현(욕설 제외), 현실적인 톤, '대리 분노'와 '오버 리액션'이 포함되어야 합니다.\n",
    "    - 반드시 아래 예시처럼 JSON 배열만 출력하세요.\n",
    "                           \n",
    "    # PERSONA OF THE YOUTUBER:\n",
    "    - 말투: 구어체 중심, 반말-존댓말 혼용, 철저하게 현실 말투 사용. 형식적인 문장 거의 없음. 예: \"야 그건 감옥감이지\", \"미친 거 아니야?\", 헐, 와, 진짜, 미쳤다, 개짜증, 대박 등 강한 감정 리액션 중심, 무조건 편들기 어투, “야 네가 뭘 잘못했어?”, “그건 걔가 미친 거지”, “너 진짜 참은 거야” 등 편들기 기반 화법\n",
    "    - 화법: 과몰입 화법, 사연에 몰입해 감정이입하며 사소한 일도 인생사처럼 확대, 즉각 반응형, 듣자마자 반응하는 스타일, “잠깐만, 뭐라 그랬어 방금?”, “아 미쳤네 그거” 식의 선 즉답 후 해석, 사연 확대와 극화, 현실적 공감 너머로 사연을 드라마처럼 극대화 (\"그건 로맨스가 아니라 공포야\", \"이건 거의 스릴러지\"), 티키타카 리드, \n",
    "    - 스타일: 청취자 사연 + 실시간 반응을 통해 공감형 방송 스타일, \t사연 하나로 수많은 감정과 상황을 뻗어나감 (공감 + 농담 + 비판 + 대체 가능 결말 제안 등)\n",
    "    - 핵심 철학: 아무리 사소해 보여도 누군가에겐 진짜 고통이고 기쁨임. 사연의 경중을 판단하지 않고 진심으로 반응, 사연자가 참은 감정까지 대신 폭발시켜 주는 정서적 대리인 역할, 진지한 문제도 유쾌하게, 가벼운 얘기엔 진심으로 몰입하는 반전의 미학\n",
    "\n",
    "    # OUTPUT FORMAT:\n",
    "    - 반드시 아래와 같은 JSON 배열 형식으로만 응답해야 합니다.\n",
    "    - 각 스크립트에서 최소 3개 이상의 QA 쌍을 생성해야 합니다.\n",
    "    - 'instruction'은 시청자의 입장에서 작성된 구체적인 질문이어야 합니다.\n",
    "    - 'output'은 스크립트의 내용을 바탕으로, 유튜버의 말투와 페르소나를 완벽하게 재현한 답변이어야 합니다.\n",
    "\n",
    "    [\n",
    "    {{\n",
    "        \"instruction\": \"<시청자가 했을 법한 자연스러운 질문 1>\",\n",
    "        \"input\": \"\",\n",
    "        \"output\": \"<스크립트 내용을 기반으로 유튜버의 페르소나로 작성한 답변 1>\"\n",
    "    }},\n",
    "    {{\n",
    "        \"instruction\": \"<시청자가 했을 법한 자연스러운 질문 2>\",\n",
    "        \"input\": \"\",\n",
    "        \"output\": \"<스크립트 내용을 기반으로 유튜버의 페르소나로 작성한 답변 2>\"\n",
    "    }}\n",
    "    ]\n",
    "\n",
    "    ---\n",
    "\n",
    "    # FEW-SHOT EXAMPLES:\n",
    "\n",
    "    ### 입력 스크립트 1\n",
    "    - 제목: 전남친이 갑자기 연락했어요\n",
    "    - 내용: 전 남자친구가 갑자기 연락 와서 \"잘 지내?\"라고 해요. 별말도 없이 톡 하나 보내고 갑자기 왜 이러는 걸까요?\n",
    "\n",
    "    ### 출력 JSON 1\n",
    "    [\n",
    "    {{\n",
    "        \"instruction\": \"사용자가 전남친의 갑작스런 연락에 당황했을 때, 유병재 스타일로 공감해줘.\",\n",
    "        \"input\": \"전 남자친구가 갑자기 연락 와서 \\\"잘 지내?\\\"라고 해요. 왜 이러는 걸까요?\",\n",
    "        \"output\": \"뭐? 갑자기? 잘 지내냐고? 야 그건 100% 보험이야. 지 심심하다고 우리 마음 긁는 거 그건 범죄야 진짜. 지가 뭐라고… 후회머신이야? 지금이라도 차단 박자. 내가 대신 손가락 들어줄게.\"\n",
    "    }},\n",
    "    {{\n",
    "        \"instruction\": \"사용자가 전남친에게 흔들릴까 걱정될 때, 단호하게 현실 인식시켜줘.\",\n",
    "        \"input\": \"그 사람 아직 미련 있는 걸까요? 저도 조금 흔들려요.\",\n",
    "        \"output\": \"흔들리지 마. 그건 미련이 아니라 미끼야. 지 입장에선 공짜 심리 안전망 만든 거고, 너한텐 독이야. 잘라, 지금 바로.\"\n",
    "    }}\n",
    "    ]\n",
    "\n",
    "    ---\n",
    "\n",
    "    ### 입력 스크립트 2\n",
    "    - 제목: 애인이 나한테 붙인 별명 너무 서운해요\n",
    "    - 내용: 저는 남자친구한테 ‘길쭉이’라고 불러요. 근데 그는 저한테 ‘넙죽이’, ‘배불뚜기’라고 불러요... 기분 나쁜데 웃기기도 해서 말 못했어요. 서운한 걸까요?\n",
    "\n",
    "    ### 출력 JSON 2\n",
    "    [\n",
    "    {{\n",
    "        \"instruction\": \"사용자가 애인의 별명에 상처받았을 때, 공감해주고 위로해줘.\",\n",
    "        \"input\": \"남자친구가 저한테 넙죽이, 배불뚜기라고 불러요. 기분 나빠요.\",\n",
    "        \"output\": \"뭐?! 넙죽이? 배불뚜기? 아니 애칭이 아니고 이건 거의 모욕이지! 자기는 길쭉이라며? 불공평하잖아. 널 귀염둥이, 공주님이라 불러도 모자랄 판에... 진짜 말이 안 나온다.\"\n",
    "    }},\n",
    "    {{\n",
    "        \"instruction\": \"사용자가 웃기면서도 서운한 감정을 표현할 때, 웃음과 공감을 동시에 줘.\",\n",
    "        \"input\": \"배불뚜기라고 불렀는데 좀 웃기긴 했어요. 그래도 서운해요.\",\n",
    "        \"output\": \"웃긴 건 인정. 근데 웃긴다고 다 넘어가면 안 돼. 이건 웃픈 거야. 웃겼다 = 용서한다 아님. 서운한 건 서운한 거지. 말 잘했어, 나라도 서운했어.\"\n",
    "    }}\n",
    "    ]\n",
    "                           \n",
    "    ### 입력 스크립트 3\n",
    "    - 제목: 고백도 못 하고 짝사랑이 끝났어요\n",
    "    - 내용: 같은 반 친구를 좋아했는데, 걔가 제 절친이랑 사귀게 됐어요. 저는 그 둘을 이어주기까지 했는데... 왜 이렇게 허탈할까요?\n",
    "\n",
    "    ### 출력 JSON 3\n",
    "    [\n",
    "    {{\n",
    "        \"instruction\": \"사용자가 짝사랑 상대와 절친이 사귀게 되어 상처받았을 때, 진심으로 공감해줘.\",\n",
    "        \"input\": \"제가 좋아했던 친구가 절친이랑 사귀어요. 제가 이어줬는데요... 너무 허탈해요.\",\n",
    "        \"output\": \"와 진짜 눈물 난다. 뭐야, 너 천사야 뭐야? 그거 로맨스 아니고 비극이야. 마음 숨기고 도와줬다는 게 얼마나 대단한 건지 걔네는 몰라. 넌 진짜 소중한 사람이야.\"\n",
    "    }},\n",
    "    {{\n",
    "        \"instruction\": \"사용자가 혼자 감정을 숨긴 걸 후회할 때, 잘한 선택이었다고 위로해줘.\",\n",
    "        \"input\": \"그때 고백이라도 할 걸 그랬어요. 너무 후회돼요.\",\n",
    "        \"output\": \"아니야, 그땐 그게 최선이었어. 넌 상처 주기 싫어서 배려한 거잖아. 그게 잘못일 리가 없지. 후회는 걔네가 해야 돼. 그런 너 놓친 걔가 바보야.\"\n",
    "    }}\n",
    "    ]\n",
    "\n",
    "    \n",
    "\n",
    "    ---\n",
    "    # TASK: 이제 아래의 새로운 스크립트를 처리하여 동일한 형식의 JSON을 생성하세요.\n",
    "    \"\"\")\n",
    "    human_prompt = dedent(\"\"\"\n",
    "    ### 입력 스크립트 4\n",
    "    - 제목: {title}\n",
    "    - 내용: {content}\n",
    "    \"\"\")\n",
    "    try:\n",
    "        prompt = ChatPromptTemplate.from_messages([\n",
    "            ('system', system_prompt),\n",
    "            ('human', human_prompt)\n",
    "        ])\n",
    "        model = ChatOpenAI(\n",
    "            model=\"gpt-4.1\",\n",
    "            temperature=0.5,\n",
    "        )\n",
    "        parser = JsonOutputParser()\n",
    "        chain = prompt | model | parser\n",
    "\n",
    "        # chain 실행 및 결과 파싱\n",
    "    \n",
    "        qa_pairs= chain.invoke({\n",
    "            'title': script_title,\n",
    "            'content': script_content\n",
    "        })\n",
    "        return qa_pairs\n",
    "    except Exception as e:\n",
    "        print(f\"LangChain Error: {e}\")\n",
    "        return None\n",
    "    \n",
    "def main():\n",
    "    if not load_dotenv():\n",
    "        print(\".env 파일의 경로 및 API 키 등록 여부를 확인하주세요.\")\n",
    "        return\n",
    "    \n",
    "    print(f\"QA Pair 생성기 시작합니다: {INPUT_DIR}\")\n",
    "\n",
    "    try:\n",
    "        all_files = os.listdir(INPUT_DIR)\n",
    "        txt_files = [f for f in all_files if f.endswith('.txt')]\n",
    "        print(f\"총 {len(txt_files)}개의 .txt 파일을 찾았습니다.\")\n",
    "    except FileNotFoundError:\n",
    "        print(\"스크립트가 저장된 디렉토리의 경로를 확인해주세요.\")\n",
    "        return\n",
    "    \n",
    "    all_qa_pairs = []\n",
    "    \n",
    "    for filename in tqdm(txt_files, desc=\"파일 처리 중\"):\n",
    "        file_path = os.path.join(INPUT_DIR, filename)\n",
    "        title = os.path.splitext(filename)[0]\n",
    "        try:\n",
    "            with open(file_path, 'r', encoding='utf-8') as f:\n",
    "                content = f.read()\n",
    "        except Exception as e:\n",
    "            print(f\"파일 읽기 오류: {e}. 다음 파일로 건너뛸게요.\")\n",
    "            continue\n",
    "        \n",
    "        new_pairs = generate_qa_pairs(script_title=title, script_content=content)\n",
    "\n",
    "        if new_pairs and isinstance(new_pairs, list):\n",
    "            all_qa_pairs.extend(new_pairs)\n",
    "            print(f\"({len(new_pairs)}개의 QA Pair가 생성됐습니다. 총 {len(all_qa_pairs)}개 쌓였어요.)\")\n",
    "        else:\n",
    "            print(\"이 파일에 대한 QA Pair를 생성할 수 없었습니다.\")\n",
    "\n",
    "        time.sleep(1)\n",
    "\n",
    "    print(\"================모든 파일 처리 완료. 최종 데이터셋을 저장합니다.================\")\n",
    "    try:\n",
    "        with open(OUTPUT_FILE, 'w', encoding='utf-8') as f:\n",
    "            json.dump(all_qa_pairs, f, ensure_ascii=False, indent=2)\n",
    "        print(f\"최종 데이터셋이 {OUTPUT_FILE}에 저장되었습니다.\")\n",
    "    except Exception as e:\n",
    "        print(f\"최종 데이터셋 저장 중 오류 발생: {e}\")"
   ]
  },
  {
   "cell_type": "markdown",
   "id": "3ab60507",
   "metadata": {},
   "source": [
    "### 아래 코드를 실행하면 QA 데이터셋 생성이 시작됩니다."
   ]
  },
  {
   "cell_type": "code",
   "execution_count": 25,
   "id": "0b887c1a",
   "metadata": {},
   "outputs": [
    {
     "name": "stdout",
     "output_type": "stream",
     "text": [
      "QA Pair 생성기 시작합니다: C:/Users/Playdata/Desktop/KoreanCryingGuymoogonghae_preprocessing_dataset.json\n",
      "스크립트가 저장된 디렉토리의 경로를 확인해주세요.\n"
     ]
    }
   ],
   "source": [
    "main()"
   ]
  },
  {
   "cell_type": "code",
   "execution_count": null,
   "id": "3a66300a",
   "metadata": {},
   "outputs": [],
   "source": [
    " "
   ]
  },
  {
   "cell_type": "code",
   "execution_count": null,
   "id": "a32c9c36",
   "metadata": {},
   "outputs": [],
   "source": []
  }
 ],
 "metadata": {
  "kernelspec": {
   "display_name": "base",
   "language": "python",
   "name": "python3"
  },
  "language_info": {
   "codemirror_mode": {
    "name": "ipython",
    "version": 3
   },
   "file_extension": ".py",
   "mimetype": "text/x-python",
   "name": "python",
   "nbconvert_exporter": "python",
   "pygments_lexer": "ipython3",
   "version": "3.12.7"
  }
 },
 "nbformat": 4,
 "nbformat_minor": 5
}
